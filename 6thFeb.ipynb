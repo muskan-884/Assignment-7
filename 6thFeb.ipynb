{
 "cells": [
  {
   "cell_type": "code",
   "execution_count": 2,
   "id": "1eca7513-171c-4ba0-9dff-87f535dbd8e5",
   "metadata": {},
   "outputs": [
    {
     "name": "stdout",
     "output_type": "stream",
     "text": [
      "The extracted list is\n",
      " [1, 2, 3, 4, 44, 55, 66, 34, 56, 78, 89, 34, 1, 2, 3, 1, 34, 4, 55, 67, 78, 89, 45, 22, 61, 34, 56]\n",
      "The Product of all numbers is::\n",
      "\n",
      " 4134711838987085478833841242112000\n"
     ]
    }
   ],
   "source": [
    "##Q1. Create a function which will take a list as an argument and return the product of all the numbers after creating a flat list. Use the below-given list as an argument for your function.\n",
    "# list1 = [1,2,3,4, [44,55,66, True], False, (34,56,78,89,34), {1,2,3,3,2,1}, {1:34, \"key2\": [55, 67, 78, 89], 4: (45,22, 61, 34)}, [56, 'data science'], 'Machine Learning']\n",
    "\n",
    "list1 = [1,2,3,4, [44,55,66, True], False, (34,56,78,89,34), {1,2,3,3,2,1}, \n",
    "         {1:34, \"key2\": [55, 67, 78, 89], 4: (45,22, 61, 34)}, [56, 'data science'], 'Machine Learning']\n",
    "\n",
    "def number_filter(l1): # define the function\n",
    "    from functools import reduce\n",
    "    n=[] # creat a empty lsit\n",
    "    for i in l1:\n",
    "        if str(i).isnumeric(): # filter only numeric values from the main list\n",
    "            n.append(i)\n",
    "        elif type(i)==list or type(i)==tuple or type(i)== set : # filtering numbers from tup, list, set elements \n",
    "            for j in i:\n",
    "                if str(j).isnumeric():\n",
    "                    n.append(j)\n",
    "        elif type(i)== dict: # filtering only numeric keys\n",
    "            for k,v in i.items():\n",
    "                if str(k).isnumeric() :\n",
    "                    n.append(k)\n",
    "                if str(v).isnumeric():\n",
    "                    n.append(v)\n",
    "            for k,v in i.items():\n",
    "                if str(k).isnumeric()== False :\n",
    "                    if type(v)==list or type(v)== tuple:\n",
    "                        for u in v:\n",
    "                            if str(u).isnumeric():\n",
    "                                n.append(u)\n",
    "            for k,v in i.items():\n",
    "                if str(k).isnumeric()== True :\n",
    "                    if type(v)==list or type(v)== tuple:\n",
    "                        for u in v:\n",
    "                            if str(u).isnumeric():\n",
    "                                n.append(u)\n",
    "   \n",
    "                    \n",
    "                   \n",
    "                        \n",
    "                                \n",
    "#             \n",
    "    return(n) ,(reduce(lambda x,y: x*y, n))\n",
    "    \n",
    "\n",
    "m,result=number_filter(list1)\n",
    "print(\"The extracted list is\\n\",m)\n",
    "print(\"The Product of all numbers is::\\n\\n\",result)\n",
    "\n"
   ]
  },
  {
   "cell_type": "code",
   "execution_count": 3,
   "id": "fe8644f3-a94a-45f8-965d-41323ac42118",
   "metadata": {},
   "outputs": [],
   "source": [
    "Q2. Write a python program for encrypting a message sent to you by your friend. The logic of encryption should be such that, for a the output should be z. For b, the output should be y. For c, the output should be x respectively. Also, the whitespace should be replaced with a dollar sign. Keep the punctuation marks unchanged.\n",
    "Input Sentence: I want to become a Data Scientist.\n",
    "Encrypt the above input sentence using the program you just created.\n",
    "Note: Convert the given input sentence into lowercase before encrypting. The final output should be lowercase.\n",
    "\n"
   ]
  },
  {
   "cell_type": "code",
   "execution_count": 4,
   "id": "1d2460ef-0b45-492f-8016-c6376cc47f02",
   "metadata": {},
   "outputs": [
    {
     "name": "stdout",
     "output_type": "stream",
     "text": [
      " Message is = I want to become a Data Scientist\n",
      "Encrypted Message is = i$wznt$to$yexome$z$dztz$sxientist\n"
     ]
    }
   ],
   "source": [
    "strr=\"I want to become a Data Scientist\"\n",
    "lstr = strr.lower()\n",
    "rstr=lstr.replace('a','z')\n",
    "rrstr=rstr.replace('b','y')\n",
    "rrrstr=rrstr.replace('c','x')\n",
    "update=rrrstr.replace(\" \",\"$\")\n",
    "print(\" Message is =\",strr)\n",
    "print(\"Encrypted Message is =\",update)"
   ]
  },
  {
   "cell_type": "code",
   "execution_count": null,
   "id": "9b270ea6-447a-4ed2-b45c-148f8f4fa70b",
   "metadata": {},
   "outputs": [],
   "source": []
  }
 ],
 "metadata": {
  "kernelspec": {
   "display_name": "Python 3 (ipykernel)",
   "language": "python",
   "name": "python3"
  },
  "language_info": {
   "codemirror_mode": {
    "name": "ipython",
    "version": 3
   },
   "file_extension": ".py",
   "mimetype": "text/x-python",
   "name": "python",
   "nbconvert_exporter": "python",
   "pygments_lexer": "ipython3",
   "version": "3.10.8"
  }
 },
 "nbformat": 4,
 "nbformat_minor": 5
}
